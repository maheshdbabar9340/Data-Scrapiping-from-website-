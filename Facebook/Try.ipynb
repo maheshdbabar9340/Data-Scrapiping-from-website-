{
 "cells": [
  {
   "cell_type": "code",
   "execution_count": 19,
   "metadata": {},
   "outputs": [],
   "source": [
    "import requests  \n",
    "r = requests.get('https://www.facebook.com/search/people/?q=rajesh&sde=AbqlzIMZvJOv8dseN-6DUg_LZkFp8aVYRIKoYVJS8Qh3ZWjcMWTMl3Qj5EXhFxA10yfbmWPhopVpnK1PUmjOqv52')\n",
    "\n",
    "from bs4 import BeautifulSoup  \n",
    "soup = BeautifulSoup(r.text, 'html.parser')  \n",
    "results = soup.find_all('span', attrs={\"class\":\"nc684nl6\"})\n",
    "\n",
    "count =0\n",
    "for result in results:\n",
    "    if(count <10):\n",
    "        print(result)\n",
    "        count= count+1\n",
    "#     date = result.find('strong').text[0:-1] + ', 2017'\n",
    "#     lie = result.contents[1][1:-2]\n",
    "#     explanation = result.find('a').text[1:-1]\n",
    "#     url = result.find('a')['href']\n",
    "#     records.append((date, lie, explanation, url))\n",
    "\n",
    "# import pandas as pd  \n",
    "# df = pd.DataFrame(records, columns=['date', 'lie', 'explanation', 'url'])  \n",
    "# df['date'] = pd.to_datetime(df['date'])  \n",
    "# df.to_csv('trump_lies.csv', index=False, encoding='utf-8') \n"
   ]
  },
  {
   "cell_type": "code",
   "execution_count": null,
   "metadata": {},
   "outputs": [],
   "source": []
  }
 ],
 "metadata": {
  "kernelspec": {
   "display_name": "Python 3",
   "language": "python",
   "name": "python3"
  },
  "language_info": {
   "codemirror_mode": {
    "name": "ipython",
    "version": 3
   },
   "file_extension": ".py",
   "mimetype": "text/x-python",
   "name": "python",
   "nbconvert_exporter": "python",
   "pygments_lexer": "ipython3",
   "version": "3.7.3"
  }
 },
 "nbformat": 4,
 "nbformat_minor": 2
}
